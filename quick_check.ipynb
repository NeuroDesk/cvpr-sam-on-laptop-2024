{
 "cells": [
  {
   "cell_type": "code",
   "execution_count": 1,
   "metadata": {},
   "outputs": [],
   "source": [
    "import numpy as np\n",
    "import matplotlib.pyplot as plt\n",
    "import os\n",
    "from glob import glob"
   ]
  },
  {
   "cell_type": "code",
   "execution_count": 29,
   "metadata": {},
   "outputs": [
    {
     "name": "stdout",
     "output_type": "stream",
     "text": [
      "10\n",
      "['gts', 'spacing']\n"
     ]
    }
   ],
   "source": [
    "test_gts = sorted(glob(os.path.join('/scratch/project/bollmann_lab/MedSAM_Laptop/datasets/test_demo/gts', '*')))\n",
    "print(len(test_gts))\n",
    "test_gts = np.load(test_gts[-1],allow_pickle=True)\n",
    "print(list(test_gts.keys()))"
   ]
  },
  {
   "cell_type": "code",
   "execution_count": 11,
   "metadata": {},
   "outputs": [
    {
     "name": "stdout",
     "output_type": "stream",
     "text": [
      "3076\n"
     ]
    }
   ],
   "source": [
    "val_gts = sorted(glob(os.path.join('/scratch/project/bollmann_lab/MedSAM_Laptop/datasets/validation/litemedsam-seg-val-imgs', '*')))\n",
    "print(len(val_gts))"
   ]
  },
  {
   "cell_type": "code",
   "execution_count": 20,
   "metadata": {},
   "outputs": [
    {
     "name": "stdout",
     "output_type": "stream",
     "text": [
      "['segs']\n",
      "(227, 192, 192)\n"
     ]
    }
   ],
   "source": [
    "test_gts = np.load(val_gts[-1],allow_pickle=True)\n",
    "print(list(test_gts.keys()))\n",
    "print(test_gts['segs'].shape)"
   ]
  },
  {
   "cell_type": "code",
   "execution_count": 4,
   "metadata": {},
   "outputs": [
    {
     "name": "stdout",
     "output_type": "stream",
     "text": [
      "10\n",
      "['imgs', 'spacing', 'boxes']\n",
      "(74, 240, 240) (1, 6)\n"
     ]
    },
    {
     "data": {
      "text/plain": [
       "(41.10066136448949, 0, 255)"
      ]
     },
     "execution_count": 4,
     "metadata": {},
     "output_type": "execute_result"
    }
   ],
   "source": [
    "val_imgs = sorted(glob(os.path.join('/scratch/project/bollmann_lab/MedSAM_Laptop/datasets/test_demo/imgs', '*')))\n",
    "print(len(val_imgs))\n",
    "test_imgs = np.load(val_imgs[-1],allow_pickle=True)\n",
    "print(list(test_imgs.keys()))\n",
    "print(test_imgs['imgs'].shape, test_imgs['boxes'].shape)\n",
    "np.mean(test_imgs['imgs']), np.min(test_imgs['imgs']), np.max(test_imgs['imgs'])"
   ]
  },
  {
   "cell_type": "code",
   "execution_count": 24,
   "metadata": {},
   "outputs": [
    {
     "data": {
      "text/plain": [
       "array([3.64583325, 3.64583325, 3.26999998])"
      ]
     },
     "execution_count": 24,
     "metadata": {},
     "output_type": "execute_result"
    }
   ],
   "source": [
    "test_imgs['spacing']"
   ]
  },
  {
   "cell_type": "code",
   "execution_count": 27,
   "metadata": {},
   "outputs": [
    {
     "name": "stdout",
     "output_type": "stream",
     "text": [
      "10\n",
      "['segs']\n"
     ]
    }
   ],
   "source": [
    "val_segs = sorted(glob(os.path.join('/scratch/project/bollmann_lab/MedSAM_Laptop/datasets/validation/segs', '*.npz')))\n",
    "print(len(val_segs))\n",
    "test_segs = np.load(val_segs[-1],allow_pickle=True)\n",
    "print(list(test_segs.keys()))\n",
    "# print(test_segs['segs'].shape, test_segs['boxes'].shape)"
   ]
  },
  {
   "cell_type": "code",
   "execution_count": 51,
   "metadata": {},
   "outputs": [],
   "source": [
    "from evaluation.SurfaceDice import compute_surface_distances, compute_surface_dice_at_tolerance, compute_dice_coefficient\n",
    "from os.path import join\n",
    "compute_NSD = True\n",
    "def compute_metrics(npz_name):\n",
    "    metric_dict = {'dsc': -1.}\n",
    "    if compute_NSD:\n",
    "        metric_dict['nsd'] = -1.\n",
    "    npz_img = np.load(join(img_dir, npz_name), allow_pickle=True, mmap_mode='r')\n",
    "    npz_seg = np.load(join(seg_dir, npz_name), allow_pickle=True, mmap_mode='r')\n",
    "    npz_gt = np.load(join(gt_dir, npz_name), allow_pickle=True, mmap_mode='r')\n",
    "    gts = npz_gt['segs']\n",
    "    segs = npz_seg['segs']\n",
    "    if npz_name.startswith('3D'):\n",
    "        spacing = npz_img['spacing']\n",
    "    \n",
    "    dsc = compute_multi_class_dsc(gts, segs)\n",
    "    # comupute nsd\n",
    "    if compute_NSD:\n",
    "        if dsc > 0.2:\n",
    "        # only compute nsd when dice > 0.2 because NSD is also low when dice is too low\n",
    "            if npz_name.startswith('3D'):\n",
    "                nsd = compute_multi_class_nsd(gts, segs, spacing)\n",
    "            else:\n",
    "                spacing = [1.0, 1.0, 1.0]\n",
    "                nsd = compute_multi_class_nsd(np.expand_dims(gts, -1), np.expand_dims(segs, -1), spacing)\n",
    "        else:\n",
    "            nsd = 0.0\n",
    "    return npz_name, dsc, nsd\n",
    "    \n",
    "def compute_multi_class_dsc(gt, seg):\n",
    "    dsc = []\n",
    "    for i in range(1, gt.max()+1):\n",
    "        gt_i = gt == i\n",
    "        seg_i = seg == i\n",
    "        dsc.append(compute_dice_coefficient(gt_i, seg_i))\n",
    "    return np.mean(dsc)\n",
    "\n",
    "def compute_multi_class_nsd(gt, seg, spacing, tolerance=2.0):\n",
    "    nsd = []\n",
    "    for i in range(1, gt.max()+1):\n",
    "        gt_i = gt == i\n",
    "        seg_i = seg == i\n",
    "        surface_distance = compute_surface_distances(\n",
    "            gt_i, seg_i, spacing_mm=spacing\n",
    "        )\n",
    "        nsd.append(compute_surface_dice_at_tolerance(surface_distance, tolerance))\n",
    "    return np.mean(nsd)\n"
   ]
  },
  {
   "cell_type": "code",
   "execution_count": 57,
   "metadata": {},
   "outputs": [],
   "source": [
    "img_dir = '/scratch/project/bollmann_lab/MedSAM_Laptop/datasets/validation/imgs'\n",
    "seg_dir = '/scratch/project/bollmann_lab/MedSAM_Laptop/datasets/validation/segs'\n",
    "gt_dir = '/scratch/project/bollmann_lab/MedSAM_Laptop/datasets/validation/litemedsam-seg-val-imgs'\n",
    "npz_names = sorted(os.listdir(gt_dir))\n",
    "npz_names = [npz_name for npz_name in npz_names if npz_name.endswith('.npz')]\n",
    "name, dsc, nsd = compute_metrics(npz_names[-6])"
   ]
  },
  {
   "cell_type": "code",
   "execution_count": 58,
   "metadata": {},
   "outputs": [
    {
     "data": {
      "text/plain": [
       "('3DBox_MR_0619.npz', 0.9996548153261995, 1.0)"
      ]
     },
     "execution_count": 58,
     "metadata": {},
     "output_type": "execute_result"
    }
   ],
   "source": [
    "name, dsc, nsd"
   ]
  },
  {
   "cell_type": "code",
   "execution_count": null,
   "metadata": {},
   "outputs": [],
   "source": []
  }
 ],
 "metadata": {
  "kernelspec": {
   "display_name": "medsam",
   "language": "python",
   "name": "python3"
  },
  "language_info": {
   "codemirror_mode": {
    "name": "ipython",
    "version": 3
   },
   "file_extension": ".py",
   "mimetype": "text/x-python",
   "name": "python",
   "nbconvert_exporter": "python",
   "pygments_lexer": "ipython3",
   "version": "3.10.11"
  }
 },
 "nbformat": 4,
 "nbformat_minor": 2
}
